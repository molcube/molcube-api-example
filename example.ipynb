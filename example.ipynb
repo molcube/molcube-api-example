{
  "cells": [
    {
      "cell_type": "code",
      "execution_count": null,
      "id": "6a5970b3-9b30-4d69-9687-3840f7dd2735",
      "metadata": {},
      "outputs": [],
      "source": [
        "%load_ext autoreload\n",
        "%autoreload 2"
      ]
    },
    {
      "cell_type": "markdown",
      "id": "3105133d-faf9-4329-8708-16d1016eb22f",
      "metadata": {},
      "source": [
        "# Install API package"
      ]
    },
    {
      "cell_type": "markdown",
      "id": "c4d16faf-0c97-427c-aa16-e795a12c35f6",
      "metadata": {},
      "source": [
        "Please use the follwing command to install the package:\n",
        "\n",
        "`pip install -U http://deployments.molcube.com/api/molcube-0.3.0-py3-none-any.whl`"
      ]
    },
    {
      "cell_type": "code",
      "execution_count": null,
      "id": "bfd03d7c-e307-4291-97af-5ed256b42bb8",
      "metadata": {},
      "outputs": [],
      "source": [
        "import molcube as mc"
      ]
    },
    {
      "cell_type": "markdown",
      "id": "92f10e11",
      "metadata": {},
      "source": [
        "# Obtain API Key"
      ]
    },
    {
      "cell_type": "markdown",
      "id": "79aad704",
      "metadata": {},
      "source": [
        "To retrieve the API key for a user, there are two methods available:\n",
        "\n",
        "Case 1.\n",
        "1. Authenticate using your MolCube-Builder account credentials (username and password).\n",
        "\n",
        "Case 2. \n",
        "1. Log in to the MolCube-Builder web application and navigate to the Profile page.\n",
        "2. Generate an API key and copy the key value.\n",
        "3. Use the copied API key for authentication."
      ]
    },
    {
      "cell_type": "markdown",
      "id": "5c963e81",
      "metadata": {},
      "source": [
        "## Additional Note\n",
        "- The API key does not have an expiration time.\n",
        "- However, if either method is executed and the API key is regenerated, the previous API key will no longer be valid and cannot be used."
      ]
    },
    {
      "cell_type": "markdown",
      "id": "84adfccd-9b71-4c03-ad1a-e15fb2a4bf17",
      "metadata": {},
      "source": [
        "# Authenticate API"
      ]
    },
    {
      "cell_type": "code",
      "execution_count": null,
      "id": "78d655be-d2ea-4009-9e8d-ec5c292da36f",
      "metadata": {},
      "outputs": [],
      "source": [
        "# change the hostname for your API server\n",
        "molcube = mc.API('localhost', 8000)\n",
        "\n",
        "# # Case 1: Authenticate with username and password\n",
        "# username = \"username\"\n",
        "# password = \"password\"\n",
        "# molcube.authenticate(username=username, password=password)\n",
        "\n",
        "# Case 2: Authenticate with API key\n",
        "api_access_key = \"api_access_key\"\n",
        "molcube.authenticate(api_token=api_access_key)"
      ]
    },
    {
      "cell_type": "markdown",
      "id": "eff30535-376e-4941-b641-ccdbf6fef927",
      "metadata": {},
      "source": [
        "# Creating a PDB Reader Project"
      ]
    },
    {
      "cell_type": "markdown",
      "id": "7903d573-a336-4e09-89ce-8ab78023623c",
      "metadata": {},
      "source": [
        "Let’s walk through how to create a PDB Reader project. The current version supports PDB reading but does not yet allow additional modifications. Expanded modification options will be available in the upcoming release.\n",
        "\n",
        "The following arguments are available for the method:\n",
        "* correct_topo (bool): Correct chains and bonds information using distance between each atom. (default: False)\n",
        "* rename_dupl_atoms (bool): Rename hetero atoms if there are duplicate atom names. (default: True)\n",
        "* calc_pka (bool): Calculate pKa of protein residues to apply system pH. (defualt: False)\n",
        "\n",
        "Two force field options are available: `charmmff` and `amberff`. For `amberff`, you can select different force field options. The default selections for `amberff` are as follows:\n",
        "\n",
        "```\n",
        "amberOptions = {\n",
        "    \"protein\": \"FF19SB\",\n",
        "    \"dna\": \"OL15\",\n",
        "    \"rna\": \"OL3\",\n",
        "    \"glycan\": \"GLYCAM_06j\",\n",
        "    \"lipid\": \"Lipid21\",\n",
        "    \"water\": \"OPC\"\n",
        "}\n",
        "```\n",
        "\n",
        "Here are all available choices for amberOptions:\n",
        "\n",
        "* Protein: [FF19SB, FF14SB, FF14SBonlysc]\n",
        "* DNA: [OL15, BSC1]\n",
        "* RNA: [OL3, YIL, Shaw]\n",
        "* Glycan: [GLYCAM_06j]\n",
        "* Lipid: [Lipid21, Lipid17]\n",
        "* Water: [OPC, TIP3P, TIP4PEW, TIP4PD]"
      ]
    },
    {
      "cell_type": "code",
      "execution_count": null,
      "id": "ccd4db71-5a51-46a8-9126-96c7e53ff8c2",
      "metadata": {},
      "outputs": [],
      "source": [
        "# Create a PDB Reader project and fetch PDB from RCSB using PDB ID\n",
        "pdbreader = molcube.create_pdb_reader_project()\n",
        "assert pdbreader.create_project(title='test', ff='charmmff')\n",
        "assert pdbreader.read_pdb_from_rcsb(\"2hac\")"
      ]
    },
    {
      "cell_type": "markdown",
      "id": "58993a83-2e9c-4019-9522-dd58bdb666ae",
      "metadata": {
        "jp-MarkdownHeadingCollapsed": true
      },
      "source": [
        "To create a PDB Reader using a custom PDB file, refer to the following example."
      ]
    },
    {
      "cell_type": "raw",
      "id": "9f8cc1e0-cc97-45f1-99b6-91a8ab54f626",
      "metadata": {},
      "source": [
        "pdbreader = molcube.create_pdb_reader_project()\n",
        "assert pdbreader.create_project(title='test', ff='charmmff')\n",
        "assert pdbreader.upload_pdb(\"2hac.cif\")"
      ]
    },
    {
      "cell_type": "markdown",
      "id": "0b0b4fff",
      "metadata": {},
      "source": [
        "After retrieving the default option information using the `model_options()` method, apply the desired options and proceed with modeling. Refer to the `available_info()` method below for guidance on applying options."
      ]
    },
    {
      "cell_type": "code",
      "execution_count": null,
      "id": "6952d1c7",
      "metadata": {},
      "outputs": [],
      "source": [
        "option = pdbreader.model_options()"
      ]
    },
    {
      "cell_type": "markdown",
      "id": "03c6188e",
      "metadata": {},
      "source": [
        "The `available_info()` method provides information on the options that can be applied to the `option` dictionary in `model_pdb()`.\n",
        "\n",
        "The output includes the protein chain, terminal, and standalone ligand, while other details are saved in the `available_modification.json` file.\n",
        "\n",
        "The `option` dictionary follows the structure below for modification options:\n",
        "- The `ph` option is only applicable if you set `calc_pka` to `True` in the previous step.\n",
        "\n",
        "```\n",
        "option = {\n",
        "    'ph': system_ph: float,\n",
        "    'protein': {\n",
        "        chainIndex: bool,\n",
        "        ...\n",
        "    },\n",
        "    'ion': {\n",
        "        chainIndex: bool,\n",
        "        ...\n",
        "    },\n",
        "    'water': {\n",
        "        chainIndex: bool,\n",
        "        ...\n",
        "    },\n",
        "    'heme': {\n",
        "        chainIndex: bool,\n",
        "        ...\n",
        "    },\n",
        "    'necleicAcid': {\n",
        "        chainIndex: bool,\n",
        "        ...\n",
        "    },\n",
        "    'disulfide': [\n",
        "        {\n",
        "            'chainIndex_1': chainIndex,\n",
        "            'resid_1': resid,\n",
        "            'chainIndex_2': chainIndex,\n",
        "            'resid_2': resid,\n",
        "        },\n",
        "        ...\n",
        "    ],\n",
        "    'mutation': [\n",
        "        {\n",
        "            chainIndex: [resid, new_resname],\n",
        "        },\n",
        "        ...\n",
        "    ],\n",
        "    'terminal': {\n",
        "        chainIndex: {\n",
        "            'nter': 'N-terminus',\n",
        "            'cter': 'C-terminus',\n",
        "        },\n",
        "        ...\n",
        "    },\n",
        "    'protonation': [\n",
        "        {\n",
        "            chainIndex: [resid, patch],\n",
        "        },\n",
        "        ...\n",
        "    ],\n",
        "    'phosphorylation': [\n",
        "        {\n",
        "            chainIndex: [resid, patch],\n",
        "        },\n",
        "        ...\n",
        "    ],\n",
        "    'missing': [\n",
        "        {\n",
        "            'chainIndex': {\n",
        "                'range': [start_resid, end_resid],\n",
        "                'discntTerminals': {\n",
        "                    'nter': 'N-terminus',\n",
        "                    'cter': 'C-terminus',\n",
        "                }\n",
        "            },\n",
        "        }\n",
        "        ...\n",
        "    ],\n",
        "    'standaloneLigand': [\n",
        "        {\n",
        "            'chainIndex': chainIndex,\n",
        "            'resname': resname,\n",
        "            'ffType': str, # openff, gaff, xff\n",
        "            'fast': bool\n",
        "        }\n",
        "    ]\n",
        "}\n",
        "```\n",
        "\n",
        "### Example\n",
        "```\n",
        "option = {\n",
        "    'protein': {\n",
        "        'PROT_A': True,\n",
        "        'PROT_B': True,\n",
        "    },\n",
        "    'disulfide': [{\n",
        "        'chainIndex_1': 'PROT_A'\n",
        "        'resid_1': '2'\n",
        "        'chainIndex_2': 'PROT_B'\n",
        "        'resid_2': '2'\n",
        "    }],\n",
        "    'mutation': [{\n",
        "        'PROT_A': ['-3', 'ARG']\n",
        "    }],\n",
        "    'terminal': {\n",
        "        \"PROT_A\": {\n",
        "            'nter': \"NTER\",\n",
        "            'cter': \"CTER\"\n",
        "        }\n",
        "    }\n",
        "}\n",
        "```\n",
        "\n",
        "`assert pdbreader.model_pdb(option)`"
      ]
    },
    {
      "cell_type": "code",
      "execution_count": null,
      "id": "bf741dd5",
      "metadata": {},
      "outputs": [],
      "source": [
        "available_info, residue_data = pdbreader.available_info()"
      ]
    },
    {
      "cell_type": "code",
      "execution_count": null,
      "id": "8eb2aff4-c765-4b67-9783-8a0ccd075e21",
      "metadata": {},
      "outputs": [],
      "source": [
        "pdbreader.model_pdb(option=option)"
      ]
    },
    {
      "cell_type": "markdown",
      "id": "50a8fece-22ae-4d0d-adbd-1324efdef839",
      "metadata": {},
      "source": [
        "The modeled system can be downloaded and visualized either on the user’s computer or through a web interface."
      ]
    },
    {
      "cell_type": "markdown",
      "id": "897baca4-b847-4fe7-8518-e946523df87c",
      "metadata": {},
      "source": [
        "Currently, the API models the PDB structure using default options, without support for user-specified modifications. Additional modification options will be available in a future release."
      ]
    },
    {
      "cell_type": "code",
      "execution_count": null,
      "id": "a57a1a44-5473-41cd-a9f3-91a38d3c2035",
      "metadata": {},
      "outputs": [],
      "source": [
        "pdbreader.download_pdb('system.pdb')"
      ]
    },
    {
      "cell_type": "code",
      "execution_count": null,
      "id": "ac9193f3-80df-4e1f-a4bc-c9963a571dce",
      "metadata": {},
      "outputs": [],
      "source": [
        "import nglview as nv\n",
        "view = nv.show_file('system.pdb')\n",
        "view"
      ]
    },
    {
      "cell_type": "markdown",
      "id": "1ca84fbc",
      "metadata": {},
      "source": [
        "# Creating a Solution Builder Project"
      ]
    },
    {
      "cell_type": "markdown",
      "id": "a1d7dd7a",
      "metadata": {},
      "source": [
        "Let’s walk through how to create a Solution Builder project. You will need the project ID from a previously created PDB Reader project. For this example, we’ll use the project we just created above."
      ]
    },
    {
      "cell_type": "code",
      "execution_count": null,
      "id": "1a281286",
      "metadata": {},
      "outputs": [],
      "source": [
        "pdbreader_project_id = pdbreader.projectId"
      ]
    },
    {
      "cell_type": "code",
      "execution_count": null,
      "id": "31704122",
      "metadata": {},
      "outputs": [],
      "source": [
        "sbuilder = molcube.create_solution_builder_project()\n",
        "assert sbuilder.create_project(title=\"my_solution_project\", pdbreader_project_id=pdbreader_project_id)"
      ]
    },
    {
      "cell_type": "markdown",
      "id": "3d977509",
      "metadata": {},
      "source": [
        "We will combine the individual components to build the system for molecular dynamics (MD) simulation. The following arguments are available for the method:\n",
        "\n",
        "* boxShape(str): System box shape (defulat: cubic)\n",
        "* margin(float): box margin of Solution System (default: 10).\n",
        "* ions (str): Type of ions to use (default: \"kcl\").\n",
        "* ionConc (float): Ion concentration (default: 0.15).\n",
        "* neutralize (bool): Whether to neutralize the system (ion-related option) (default: Fasle).\n",
        "* temperature (float): Temperature for the system in Kelvin (default: 310.0).\n",
        "* useHmr (bool): Whether to use hydrogen mass repartitioning (default: False).\n",
        "* mdEngines (list[str]): List of molecular dynamics engines to use (default: ['openmm']).\n",
        "\n",
        "The available options for ions and mdengine are as follows:\n",
        "\n",
        "* boxShape: ['cubic', 'truncated_octahedron']\n",
        "* ions: ['kcl', 'nacl', 'cacl2']\n",
        "* mdEngines: ['openmm', 'amber', 'gromacs', 'namd', 'genesis', 'desmond']"
      ]
    },
    {
      "cell_type": "code",
      "execution_count": null,
      "id": "37e56136",
      "metadata": {},
      "outputs": [],
      "source": [
        "mdEngines = ['openmm', 'gromacs']\n",
        "assert sbuilder.generate_system(mdEngines=mdEngines)"
      ]
    },
    {
      "cell_type": "markdown",
      "id": "37942074-c3bc-4c57-9b22-00fcd037f18b",
      "metadata": {},
      "source": [
        "# Creating a Membrane Builder Project"
      ]
    },
    {
      "cell_type": "markdown",
      "id": "30eaf37a-186c-4164-b613-e236a3b54c92",
      "metadata": {},
      "source": [
        "Let’s walk through how to create a Membrane Builder project. You will need the project ID from a previously created PDB Reader project. For this example, we’ll use the project we just created above."
      ]
    },
    {
      "cell_type": "code",
      "execution_count": null,
      "id": "2d27b652-d7ce-47ac-9ad4-1caa7d87d111",
      "metadata": {},
      "outputs": [],
      "source": [
        "pdbreader_project_id = pdbreader.projectId"
      ]
    },
    {
      "cell_type": "code",
      "execution_count": null,
      "id": "b4410c53-132d-426e-bc18-4a0011c9b4e1",
      "metadata": {},
      "outputs": [],
      "source": [
        "# Create Membrane Builder project\n",
        "mbuilder = molcube.create_membrane_builder_project()\n",
        "assert mbuilder.create_project(title=\"my_membrane_project\",\n",
        "                               pdbreader_project_id=pdbreader_project_id)"
      ]
    },
    {
      "cell_type": "code",
      "execution_count": null,
      "id": "777b4288-5993-4fd3-8dcf-4489aed0a3b7",
      "metadata": {},
      "outputs": [],
      "source": [
        "# Align protein and build membrane\n",
        "# other options are 'asis', 'principal', 'ppm'\n",
        "assert mbuilder.align_membrane_protein(option='ppm')"
      ]
    },
    {
      "cell_type": "markdown",
      "id": "af503682",
      "metadata": {},
      "source": [
        "To create a membrane-only system, refer to the following example.\n",
        "\n",
        "In membrane-only system, the `align_membrane_protein()` method is unnecessary."
      ]
    },
    {
      "cell_type": "raw",
      "id": "be887b9e",
      "metadata": {
        "vscode": {
          "languageId": "raw"
        }
      },
      "source": [
        "mbuilder = molcube.create_membrane_builder_project()\n",
        "assert mbuilder.create_project(title=\"my_membrane_project\")"
      ]
    },
    {
      "cell_type": "markdown",
      "id": "2ef8cf67-0c84-47f3-9e0f-c74f5561e488",
      "metadata": {},
      "source": [
        "The following method generates lipid packing with a specified composition. The composition must be provided as integers. For example, a 9:1 ratio of POPC to cholesterol can be achieved with the example below. Additionally, 20 Å of padding is added to the system for packing."
      ]
    },
    {
      "cell_type": "code",
      "execution_count": null,
      "id": "419b9fdd-1eb1-4566-a6e1-608170d1f3d8",
      "metadata": {},
      "outputs": [],
      "source": [
        "# Build lipid packing\n",
        "\n",
        "# membrane system\n",
        "box_margin = {\n",
        "    'margin': 20,\n",
        "}\n",
        "\n",
        "# membrane-only system\n",
        "# box_margin = {\n",
        "#     'sizeX': 50,\n",
        "#     'sizeY': 50,\n",
        "#     'sizeZ': 50,\n",
        "# }\n",
        "\n",
        "assert mbuilder.generate_lipid_packing({\"POPC\": 9, \"CHL\": 1}, box_margin)"
      ]
    },
    {
      "cell_type": "markdown",
      "id": "1ac3c7d4-ba0d-4440-908d-c012295ca5f4",
      "metadata": {},
      "source": [
        "Let's download the dummy packing file and visualize the file."
      ]
    },
    {
      "cell_type": "code",
      "execution_count": null,
      "id": "d4490f53-54b2-4458-8b4c-6680619d8d69",
      "metadata": {},
      "outputs": [],
      "source": [
        "mbuilder.download_dummy()\n",
        "view = nv.show_file('dummy.pdb')\n",
        "view"
      ]
    },
    {
      "cell_type": "code",
      "execution_count": null,
      "id": "852f78c0-3236-49b9-965b-b0b9e7604f26",
      "metadata": {},
      "outputs": [],
      "source": [
        "# Replace lipid packing and build system\n",
        "assert mbuilder.replace_packing()"
      ]
    },
    {
      "cell_type": "code",
      "execution_count": null,
      "id": "043b7e51-81a1-4020-ae1a-51b403b93e4b",
      "metadata": {},
      "outputs": [],
      "source": [
        "mbuilder.download_packing()\n",
        "view = nv.show_file('packing.pdb')\n",
        "view"
      ]
    },
    {
      "cell_type": "markdown",
      "id": "7c18c908-53ae-4369-b1f0-20950c14c551",
      "metadata": {},
      "source": [
        "Finally, we will combine the individual components to build the system for molecular dynamics (MD) simulation. The following arguments are available for the method:\n",
        "\n",
        "* waterMargin(float): water margin of Membrane System (default: 22.5).\n",
        "* ions (str): Type of ions to use (default: \"kcl\").\n",
        "* ionConc (float): Ion concentration (default: 0.15).\n",
        "* useHmr (bool): Whether to use hydrogen mass repartitioning (default: False).\n",
        "* mdEngines (list[str]): Molecular dynamics engine to use (default: ['openmm']).\n",
        "\n",
        "The available options for ions and mdengine are as follows:\n",
        "\n",
        "* ions: ['kcl', 'nacl', 'cacl2']\n",
        "* mdEngines: ['openmm', 'amber', 'gromacs', 'namd', 'genesis', 'desmond']"
      ]
    },
    {
      "cell_type": "code",
      "execution_count": null,
      "id": "c09bb5db-044f-4d1c-bced-20cf9e1c9c00",
      "metadata": {},
      "outputs": [],
      "source": [
        "assert mbuilder.generate_system(ions='kcl', mdEngines=['openmm', 'gromacs'])"
      ]
    },
    {
      "cell_type": "code",
      "execution_count": null,
      "id": "756f38e0-750c-42a1-b480-b81769375d7f",
      "metadata": {
        "scrolled": true
      },
      "outputs": [],
      "source": [
        "mbuilder.download_system()\n",
        "view = nv.show_file('system.pdb')\n",
        "view"
      ]
    },
    {
      "cell_type": "code",
      "execution_count": null,
      "id": "ee632a50",
      "metadata": {},
      "outputs": [],
      "source": []
    }
  ],
  "metadata": {
    "kernelspec": {
      "display_name": "base",
      "language": "python",
      "name": "python3"
    },
    "language_info": {
      "codemirror_mode": {
        "name": "ipython",
        "version": 3
      },
      "file_extension": ".py",
      "mimetype": "text/x-python",
      "name": "python",
      "nbconvert_exporter": "python",
      "pygments_lexer": "ipython3",
      "version": "3.11.6"
    }
  },
  "nbformat": 4,
  "nbformat_minor": 5
}
