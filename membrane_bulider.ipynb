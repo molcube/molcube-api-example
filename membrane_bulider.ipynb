{
 "cells": [
  {
   "cell_type": "markdown",
   "id": "64b05404-0647-46a2-80d3-98908eced0f2",
   "metadata": {},
   "source": [
    "# How to use the Molcube membrane builder API\n"
   ]
  },
  {
   "cell_type": "markdown",
   "id": "9436751e-a360-405a-9075-e7aa974cf644",
   "metadata": {},
   "source": [
    "### Part 0: Package installation\n",
    "---"
   ]
  },
  {
   "cell_type": "markdown",
   "id": "faa0df7b-041b-4ca1-b90b-be8ae5de966c",
   "metadata": {},
   "source": [
    "#### Please use the follwing command to install the package:"
   ]
  },
  {
   "cell_type": "code",
   "execution_count": null,
   "id": "a48043ca-4a1e-4718-b81f-adcd533b7697",
   "metadata": {},
   "outputs": [],
   "source": [
    "pip install -U http://deployments.molcube.com/api/molcube-0.3.0-py3-none-any.whl"
   ]
  },
  {
   "cell_type": "markdown",
   "id": "c8dde73b-5578-417d-b661-4bae870a2234",
   "metadata": {
    "jp-MarkdownHeadingCollapsed": true
   },
   "source": [
    "### Part 1. Authentication and API setup"
   ]
  },
  {
   "cell_type": "code",
   "execution_count": 15,
   "id": "af33ab36-f17c-4284-b68b-7193bef810ce",
   "metadata": {},
   "outputs": [
    {
     "name": "stdout",
     "output_type": "stream",
     "text": [
      "✅ MolCube API Authentication Successful!\n"
     ]
    }
   ],
   "source": [
    "import molcube as mc\n",
    "import os\n",
    "\n",
    "# Connect to the MolCube API server.\n",
    "molcube = mc.API('api.molcube.com', 443)\n",
    "\n",
    "# Enter the username and password for API authentication.\n",
    "# (For security, it is recommended to store credentials in a separate file)\n",
    "# e.g., using: %run keys.py\n",
    "\n",
    "username = \"your_actual_username\"\n",
    "password = \"your_actual_password\"\n",
    "\n",
    "%run keys.ipynb # This is my personal keys\n",
    "molcube.authenticate(username=username, password=password)\n",
    "\n",
    "print(\"✅ MolCube API Authentication Successful!\")\n",
    "\n",
    "# Create a directory to store the results.\n",
    "output_dir = './molcube_results/membrane_system'\n",
    "if not os.path.exists(output_dir):\n",
    "    os.makedirs(output_dir)"
   ]
  },
  {
   "cell_type": "markdown",
   "id": "c54a984f-4e1b-4197-9e25-304d7652e6ff",
   "metadata": {
    "jp-MarkdownHeadingCollapsed": true
   },
   "source": [
    "### Part 2. Create membrane builder project"
   ]
  },
  {
   "cell_type": "code",
   "execution_count": 16,
   "id": "d96df7ad-5c47-4d1f-a3ff-b1ed746cc222",
   "metadata": {},
   "outputs": [
    {
     "data": {
      "text/plain": [
       "True"
      ]
     },
     "execution_count": 16,
     "metadata": {},
     "output_type": "execute_result"
    }
   ],
   "source": [
    "membrane_builder = molcube.create_membrane_builder_project()\n",
    "\n",
    "# Specify the project ID of a previously completed PDBReader job.\n",
    "# This ID is used to load the membrane protein structure processed by PDBReader.\n",
    "pdbreader_project_id = \"ID of your completed PDBReader job\" \n",
    "pdbreader_project_id = '02b976aa-028b-48a8-8424-a16d7a380db5' #This is my previous project id   \n",
    "\n",
    "# Create the Membrane Builder project.\n",
    "title = \"My_Membrane_System\"\n",
    "membrane_builder.create_project(title=title, pdbreader_project_id=pdbreader_project_id)"
   ]
  },
  {
   "cell_type": "markdown",
   "id": "33f3995e-6a5f-44fb-bc32-86bd66fe56e5",
   "metadata": {
    "jp-MarkdownHeadingCollapsed": true
   },
   "source": [
    "### Part 3. Align protein and pack lipids"
   ]
  },
  {
   "cell_type": "code",
   "execution_count": null,
   "id": "f1f8e5c7-e2a4-4f9e-aba4-a2a125dcec69",
   "metadata": {},
   "outputs": [
    {
     "name": "stderr",
     "output_type": "stream",
     "text": [
      "aligning system (it can take up to five minutes)...: 100%|██████████████████████████████████████████████████████████████████████████████████████████████████████████████████████████████████████████████████████████████████████████████████████████████████████████████████████████████████████████████████████████████████████████████████| 3/3 [03:24<00:00, 68.21s/it]\n"
     ]
    }
   ],
   "source": [
    "# Automatically align the protein to the membrane plane along the Z-axis.\n",
    "# (option='ppm' uses the OPM/PPM database to predict the optimal position)\n",
    "membrane_builder.align_membrane_protein(option='ppm')\n",
    "\n",
    "# Define the type and ratio of lipids for the membrane, and the padding around the protein.\n",
    "lipid_composition = {\"POPC\": 9, \"CHL\": 1} # e.g., A 9:1 ratio of POPC to Cholesterol\n",
    "box_margin = {'margin': 20} # 20 Å padding from the protein boundary\n",
    "\n",
    "# Execute the lipid packing job around the protein based on the defined composition.\n",
    "membrane_builder.generate_lipid_packing(comp=lipid_composition,box_margin=box_margin)"
   ]
  },
  {
   "cell_type": "markdown",
   "id": "767dda27-a0da-44a9-a214-9a463967bb44",
   "metadata": {},
   "source": [
    "### Part 4. Generate and Download the simulation system"
   ]
  },
  {
   "cell_type": "code",
   "execution_count": null,
   "id": "ac5e951b-0eee-4659-b554-9512c6f1cefb",
   "metadata": {},
   "outputs": [],
   "source": [
    "membrane_builder.replace_packing()\n",
    "\n",
    "# Finally, add water and ions to generate the complete system for simulation.\n",
    "# The mdEngines option allows you to specify file formats for your desired simulation engine.\n",
    "membrane_builder.generate_system(ions='kcl', mdEngines=['openmm', 'gromacs'])\n",
    "\n",
    "filename = 'membrane.tar.gz'\n",
    "output_path = os.path.join(output_dir, file_name)\n",
    "\n",
    "# Download the final, complete system file.\n",
    "membrane_builder.download_project(filename=output_path)\n",
    "print(f\"Membrane system files successfully downloaded to '{output_path}'.\")"
   ]
  },
  {
   "cell_type": "code",
   "execution_count": null,
   "id": "00e66716-9a07-4aff-b9c4-f2407767ba30",
   "metadata": {},
   "outputs": [],
   "source": []
  }
 ],
 "metadata": {
  "kernelspec": {
   "display_name": "Python 3 (ipykernel)",
   "language": "python",
   "name": "python3"
  },
  "language_info": {
   "codemirror_mode": {
    "name": "ipython",
    "version": 3
   },
   "file_extension": ".py",
   "mimetype": "text/x-python",
   "name": "python",
   "nbconvert_exporter": "python",
   "pygments_lexer": "ipython3",
   "version": "3.11.0"
  }
 },
 "nbformat": 4,
 "nbformat_minor": 5
}
