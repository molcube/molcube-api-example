{
 "cells": [
  {
   "cell_type": "markdown",
   "id": "fa1bc547-4a8e-402d-85c6-e1df224ac841",
   "metadata": {},
   "source": [
    "# How to use the Molcube PDB Reader API"
   ]
  },
  {
   "cell_type": "markdown",
   "id": "a30d9506-a8cf-4f3e-8dee-5cc887e3319d",
   "metadata": {
    "jp-MarkdownHeadingCollapsed": true
   },
   "source": [
    "### Part 0: Package installation\n",
    "---"
   ]
  },
  {
   "cell_type": "markdown",
   "id": "fbf7c91c-cca7-4f6e-9d88-3e392aa2fff1",
   "metadata": {
    "jp-MarkdownHeadingCollapsed": true
   },
   "source": [
    "####  Please use the follwing command to install the package:"
   ]
  },
  {
   "cell_type": "code",
   "execution_count": 9,
   "id": "39741050-7c99-40f5-aa0a-08d89466839b",
   "metadata": {},
   "outputs": [
    {
     "name": "stdout",
     "output_type": "stream",
     "text": [
      "Collecting molcube==0.3.0\n",
      "  Downloading http://deployments.molcube.com/api/molcube-0.3.0-py3-none-any.whl (24 kB)\n",
      "Note: you may need to restart the kernel to use updated packages.\n"
     ]
    }
   ],
   "source": [
    "pip install -U http://deployments.molcube.com/api/molcube-0.3.0-py3-none-any.whl"
   ]
  },
  {
   "cell_type": "markdown",
   "id": "8a527312-02aa-4273-990f-8f59fef27837",
   "metadata": {
    "jp-MarkdownHeadingCollapsed": true
   },
   "source": [
    "### Part 1: Authentication and API Setup\n",
    "---"
   ]
  },
  {
   "cell_type": "code",
   "execution_count": 15,
   "id": "5c93735a-be8e-4976-94f2-306cacc960cf",
   "metadata": {},
   "outputs": [
    {
     "name": "stdout",
     "output_type": "stream",
     "text": [
      "✅ MolCube API Authentication Successful!\n"
     ]
    }
   ],
   "source": [
    "import molcube as mc\n",
    "import os\n",
    "\n",
    "# Connect to the MolCube API server.\n",
    "molcube = mc.API('api.molcube.com', 443)\n",
    "\n",
    "# Enter the username and password for API authentication.\n",
    "# (For security, it is recommended to store credentials in a separate file)\n",
    "# e.g., using: %run keys.py\n",
    "\n",
    "username = \"your_actual_username\"\n",
    "password = \"your_actual_password\"\n",
    "\n",
    "%run keys.ipynb # This is my personal keys\n",
    "molcube.authenticate(username=username, password=password)\n",
    "\n",
    "print(\"✅ MolCube API Authentication Successful!\")\n",
    "\n",
    "# Create a directory to store the results.\n",
    "output_dir = './molcube_results'\n",
    "if not os.path.exists(output_dir):\n",
    "    os.makedirs(output_dir)"
   ]
  },
  {
   "cell_type": "markdown",
   "id": "c35b181b-4db9-408a-a3d3-5ce44e0d27d4",
   "metadata": {},
   "source": [
    "### Part 2-1: Using PDB from RCSB Database\n",
    "---"
   ]
  },
  {
   "cell_type": "code",
   "execution_count": null,
   "id": "6e3061af-27f8-431e-88d9-047b7aeadbfd",
   "metadata": {},
   "outputs": [
    {
     "name": "stderr",
     "output_type": "stream",
     "text": [
      "task finished...: 100%|█████████████████████████████████████████████████████████████████████████████████████████████████████████████████████████████████████████████████████████████████████████████████████████████████████████████████████████████████████████████████████████████████████████████████████████████████████████████████████| 5/5 [00:36<00:00,  7.25s/it]\n"
     ]
    },
    {
     "name": "stdout",
     "output_type": "stream",
     "text": [
      "✅ Loaded PDB '6x1a' from RCSB.\n",
      "\n",
      "[PROTEIN]\n",
      "  - Chain Index: PROT_A\n",
      "    Terminal:\n",
      "      NTER: NTER, NNEU, ACE, NONE\n",
      "      CTER: CTER, CNEU, CT1, CT2, CT3, NONE\n",
      "  - Chain Index: PROT_B\n",
      "    Terminal:\n",
      "      NTER: NTER, NNEU, ACE, NONE\n",
      "      CTER: CTER, CNEU, CT1, CT2, CT3, NONE\n",
      "  - Chain Index: PROT_C\n",
      "    Terminal:\n",
      "      NTER: NTER, NNEU, ACE, NONE\n",
      "      CTER: CTER, CNEU, CT1, CT2, CT3, NONE\n",
      "  - Chain Index: PROT_D\n",
      "    Terminal:\n",
      "      NTER: NTER, NNEU, ACE, NONE\n",
      "      CTER: CTER, CNEU, CT1, CT2, CT3, NONE\n",
      "  - Chain Index: PROT_E\n",
      "    Terminal:\n",
      "      NTER: NTER, NNEU, ACE, NONE\n",
      "      CTER: CTER, CNEU, CT1, CT2, CT3, NONE\n",
      "\n",
      "[STANDALONELIGAND]\n",
      "  - Chain Index: HETE_A\n",
      "    Residue Name: UK4\n",
      "✅ Set modeling options for the ligand.\n"
     ]
    },
    {
     "name": "stderr",
     "output_type": "stream",
     "text": [
      "optimize missing residue...:  75%|██████████████████████████████████████████████████████████████████████████████████████████████████████████████████████████████████████████████████████████████████████████████████████████████████████████████████████████████▊                                                                          | 9/12 [01:28<00:29,  9.82s/it]"
     ]
    }
   ],
   "source": [
    "# Set a title for the job.\n",
    "title_rcsb = 'RSCB_PDB_test'\n",
    "\n",
    "# Initialize the PDBReader project object.\n",
    "pdbreader_rcsb = molcube.create_pdb_reader_project()\n",
    "\n",
    "# Create a new project with 'charmmff' as the default force field.\n",
    "# [Available Force Fields: charmmff, martiniff, amberff, drudeff]\n",
    "pdbreader_rcsb.create_project(title=title_rcsb, ff='charmmff')\n",
    "\n",
    "# Read the PDB ID '6x1a' from the RCSB database.\n",
    "# Additional options like correct_topo, rename_dupl_atoms, and calc_pka can be used for structure correction.\n",
    "pdbreader_rcsb.read_pdb_from_rcsb('6x1a')\n",
    "print(\"✅ Loaded PDB '6x1a' from RCSB.\")\n",
    "\n",
    "# Analyze and retrieve ligand information from the PDB file.\n",
    "available_info_rcsb, _ = pdbreader_rcsb.available_info()\n",
    "available_ligand_rcsb = available_info_rcsb.get('standaloneLigand', [])\n",
    "\n",
    "# Set the options for ligand processing.\n",
    "option_rcsb = pdbreader_rcsb.model_options()\n",
    "option_rcsb.setdefault('standaloneLigand', [])\n",
    "for lig_info in available_ligand_rcsb:\n",
    "    option_rcsb['standaloneLigand'].append(\n",
    "        {\n",
    "            'resname': lig_info.get('resname'),      # The residue name of the ligand to process.\n",
    "            'chainIndex': lig_info.get('chainIndex'),# The chain index where the ligand is located.\n",
    "            'ffType': \"openff\",                      # Force field to apply to the ligand. # [openff, gaff, xff]\n",
    "            'fast': True                             # Whether to use the fast calculation mode. # [True, False]\n",
    "        }\n",
    "    )\n",
    "print(\"✅ Set modeling options for the ligand.\")\n",
    "\n",
    "# Execute the PDB modeling based on the configured options.\n",
    "pdbreader_rcsb.model_pdb(option=option_rcsb)\n",
    "print(\"✅ PDB modeling complete.\")\n",
    "\n",
    "# Download the processed PDB file to the specified path.\n",
    "output_path_rcsb = os.path.join(output_dir, 'RCSB_6x1a.pdb')\n",
    "pdbreader_rcsb.download_pdb(output_path_rcsb)\n",
    "print(f\"👍 Results saved to '{output_path_rcsb}'.\")"
   ]
  },
  {
   "cell_type": "markdown",
   "id": "bb78a9ad-bc4a-4aed-ba1f-da6ac31333cc",
   "metadata": {
    "jp-MarkdownHeadingCollapsed": true
   },
   "source": [
    "### Part 2-2: Using a custom PDB File\n",
    "---"
   ]
  },
  {
   "cell_type": "code",
   "execution_count": 14,
   "id": "ee01e948-c29a-4d53-8916-3d54d8b77929",
   "metadata": {},
   "outputs": [
    {
     "name": "stderr",
     "output_type": "stream",
     "text": [
      "task finished...: 100%|█████████████████████████████████████████████████████████████████████████████████████████████████████████████████████████████████████████████████████████████████████████████████████████████████████████████████████████████████████████████████████████████████████████████████████████████████████████████████████| 5/5 [00:28<00:00,  5.66s/it]\n"
     ]
    },
    {
     "name": "stdout",
     "output_type": "stream",
     "text": [
      "✅ Uploaded local PDB '/Users/sangmin/Downloads/6x1a.pdb'.\n",
      "\n",
      "[PROTEIN]\n",
      "  - Chain Index: PROT_A\n",
      "    Terminal:\n",
      "      NTER: NTER, NNEU, ACE, NONE\n",
      "      CTER: CTER, CNEU, CT1, CT2, CT3, NONE\n",
      "  - Chain Index: PROT_B\n",
      "    Terminal:\n",
      "      NTER: NTER, NNEU, ACE, NONE\n",
      "      CTER: CTER, CNEU, CT1, CT2, CT3, NONE\n",
      "  - Chain Index: PROT_C\n",
      "    Terminal:\n",
      "      NTER: NTER, NNEU, ACE, NONE\n",
      "      CTER: CTER, CNEU, CT1, CT2, CT3, NONE\n",
      "  - Chain Index: PROT_D\n",
      "    Terminal:\n",
      "      NTER: NTER, NNEU, ACE, NONE\n",
      "      CTER: CTER, CNEU, CT1, CT2, CT3, NONE\n",
      "  - Chain Index: PROT_E\n",
      "    Terminal:\n",
      "      NTER: NTER, NNEU, ACE, NONE\n",
      "      CTER: CTER, CNEU, CT1, CT2, CT3, NONE\n",
      "\n",
      "[STANDALONELIGAND]\n",
      "  - Chain Index: HETE_A\n",
      "    Residue Name: UK4\n",
      "✅ Set modeling options for the ligand.\n"
     ]
    },
    {
     "name": "stderr",
     "output_type": "stream",
     "text": [
      "save system...: 100%|█████████████████████████████████████████████████████████████████████████████████████████████████████████████████████████████████████████████████████████████████████████████████████████████████████████████████████████████████████████████████████████████████████████████████████████████████████████████████████| 12/12 [09:32<00:00, 47.73s/it]\n"
     ]
    },
    {
     "name": "stdout",
     "output_type": "stream",
     "text": [
      "✅ PDB modeling complete.\n",
      "👍 Results saved to './molcube_results/custom_6x1a.pdb'.\n"
     ]
    }
   ],
   "source": [
    "# Set a title for the new job.\n",
    "title_local = 'Custom_PDB_test'\n",
    "\n",
    "# Initialize a new PDBReader project object.\n",
    "pdbreader_local = molcube.create_pdb_reader_project()\n",
    "\n",
    "# Create the project with 'charmmff' as the default force field.\n",
    "# [Available Force Fields: charmmff, martiniff, amberff, drudeff]\n",
    "pdbreader_local.create_project(title=title_local, ff='charmmff')\n",
    "\n",
    "# Upload a PDB file from your local machine to the server.\n",
    "# (This path must be changed to match your actual file location)\n",
    "local_pdb_path = \"/Users/sangmin/Downloads/6x1a.pdb\"\n",
    "pdbreader_local.upload_pdb(local_pdb_path)\n",
    "print(f\"✅ Uploaded local PDB '{local_pdb_path}'.\")\n",
    "\n",
    "# Analyze ligand information from the uploaded file.\n",
    "available_info_local, _ = pdbreader_local.available_info()\n",
    "available_ligand_local = available_info_local.get('standaloneLigand', [])\n",
    "\n",
    "# Set the options for ligand processing.\n",
    "option_local = pdbreader_local.model_options()\n",
    "option_local.setdefault('standaloneLigand', [])\n",
    "for lig_info in available_ligand_local:\n",
    "    option_local['standaloneLigand'].append(\n",
    "        {\n",
    "            'resname': lig_info.get('resname'),\n",
    "            'chainIndex': lig_info.get('chainIndex'),\n",
    "            'ffType': \"gaff\",                        # Using 'gaff' force field this time. # [openff, gaff, xff]\n",
    "            'fast': True                             # [True, False]\n",
    "        }\n",
    "    )\n",
    "print(\"✅ Set modeling options for the ligand.\")\n",
    "\n",
    "# Execute the PDB modeling.\n",
    "pdbreader_local.model_pdb(option=option_local)\n",
    "print(\"✅ PDB modeling complete.\")\n",
    "\n",
    "# Download the final processed PDB file.\n",
    "output_path_local = os.path.join(output_dir, 'custom_6x1a.pdb')\n",
    "pdbreader_local.download_pdb(output_path_local)\n",
    "print(f\"👍 Results saved to '{output_path_local}'.\")"
   ]
  },
  {
   "cell_type": "code",
   "execution_count": null,
   "id": "90c834d9-cdeb-4f52-8354-ef3002930649",
   "metadata": {},
   "outputs": [],
   "source": []
  }
 ],
 "metadata": {
  "kernelspec": {
   "display_name": "Python 3 (ipykernel)",
   "language": "python",
   "name": "python3"
  },
  "language_info": {
   "codemirror_mode": {
    "name": "ipython",
    "version": 3
   },
   "file_extension": ".py",
   "mimetype": "text/x-python",
   "name": "python",
   "nbconvert_exporter": "python",
   "pygments_lexer": "ipython3",
   "version": "3.11.0"
  }
 },
 "nbformat": 4,
 "nbformat_minor": 5
}
