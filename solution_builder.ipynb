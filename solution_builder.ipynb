{
 "cells": [
  {
   "cell_type": "markdown",
   "id": "d4cb7b0e-234c-4e78-82c0-1b90013a7c58",
   "metadata": {},
   "source": [
    "# How to use the Molcube solution builder API"
   ]
  },
  {
   "cell_type": "markdown",
   "id": "b6d90d8b-8fe6-4eb5-81eb-ccb7ea900942",
   "metadata": {
    "jp-MarkdownHeadingCollapsed": true
   },
   "source": [
    "### Part 0: Package installation\n",
    "---"
   ]
  },
  {
   "cell_type": "markdown",
   "id": "dacd83b8-f5d5-43ad-bd7f-ff8a5e74f901",
   "metadata": {},
   "source": [
    "#### Please use the follwing command to install the package:"
   ]
  },
  {
   "cell_type": "code",
   "execution_count": 1,
   "id": "63403497-c0b5-4ee1-9d46-39a1f6208252",
   "metadata": {},
   "outputs": [
    {
     "name": "stdout",
     "output_type": "stream",
     "text": [
      "Collecting molcube==0.3.0\n",
      "  Downloading http://deployments.molcube.com/api/molcube-0.3.0-py3-none-any.whl (24 kB)\n",
      "Note: you may need to restart the kernel to use updated packages.\n"
     ]
    }
   ],
   "source": [
    "pip install -U http://deployments.molcube.com/api/molcube-0.3.0-py3-none-any.whl"
   ]
  },
  {
   "cell_type": "markdown",
   "id": "d6c8a573-5f88-4d96-9ff5-bf6ed2b04aed",
   "metadata": {
    "jp-MarkdownHeadingCollapsed": true
   },
   "source": [
    "### Part 1. Authentication and API setup\n",
    "----"
   ]
  },
  {
   "cell_type": "code",
   "execution_count": 26,
   "id": "3759cbfd-f146-499e-ab93-dd270481ee07",
   "metadata": {},
   "outputs": [
    {
     "name": "stdout",
     "output_type": "stream",
     "text": [
      "✅ MolCube API Authentication Successful!\n"
     ]
    }
   ],
   "source": [
    "import molcube as mc\n",
    "import os\n",
    "\n",
    "# change the hostname for your API server\n",
    "molcube = mc.API('api.molcube.com', 443)\n",
    "\n",
    "# Use your own credentials for API authentication.\n",
    "# (For security, it is recommended to store these in a separate file)\n",
    "# e.g., using: %run keys.py \n",
    "\n",
    "username = \"your_actual_username\"\n",
    "password = \"your_actual_password\"\n",
    "%run keys.ipynb # This is my personal keys\n",
    "molcube.authenticate(username=username, password=password)\n",
    "\n",
    "print(\"✅ MolCube API Authentication Successful!\")\n",
    "\n",
    "# Create a directory to store the results.\n",
    "output_dir = './molcube_results/solution_system'\n",
    "if not os.path.exists(output_dir):\n",
    "    os.makedirs(output_dir)"
   ]
  },
  {
   "cell_type": "markdown",
   "id": "f0cc86db-8515-4592-8e37-2ffd1e645080",
   "metadata": {
    "jp-MarkdownHeadingCollapsed": true
   },
   "source": [
    "### Part 2. Create solution builder project\n",
    "----"
   ]
  },
  {
   "cell_type": "code",
   "execution_count": 27,
   "id": "5b581414-3bb9-44ce-bdc5-1eb15a6a1eab",
   "metadata": {},
   "outputs": [
    {
     "data": {
      "text/plain": [
       "True"
      ]
     },
     "execution_count": 27,
     "metadata": {},
     "output_type": "execute_result"
    }
   ],
   "source": [
    "# Initialize the Solution Builder project object.\n",
    "solution_builder = molcube.create_solution_builder_project()\n",
    "\n",
    "# Specify the project ID of a previously completed PDBReader job.\n",
    "# This ID is used to load the structure processed by PDBReader.\n",
    "pdbreader_project_id = \"ID of your completed PDBReader job\"\n",
    "pdbreader_project_id = '02b976aa-028b-48a8-8424-a16d7a380db5' #This is my previous project id   \n",
    "\n",
    "# Create the Solution Builder project.\n",
    "title = \"My_Solution_System\"\n",
    "solution_builder.create_project(title=title, pdbreader_project_id=pdbreader_project_id)"
   ]
  },
  {
   "cell_type": "markdown",
   "id": "54822cc6-d6f3-44f4-97a9-e66c09684461",
   "metadata": {
    "jp-MarkdownHeadingCollapsed": true
   },
   "source": [
    "### Part 3. Generate and Download the simulation system\n",
    "----"
   ]
  },
  {
   "cell_type": "code",
   "execution_count": 25,
   "id": "ff9d3864-adda-4e60-8d22-a1aefbb1c824",
   "metadata": {},
   "outputs": [
    {
     "name": "stdout",
     "output_type": "stream",
     "text": [
      "👍 System files successfully downloaded to './molcube_results/solution_system/solution.tar.gz'.\n"
     ]
    }
   ],
   "source": [
    "# Generate the simulation system based on the prepared structure.\n",
    "# The code below runs with default options, but you can customize the environment\n",
    "# by setting various parameters like boxShape, margin, ions, ionConc, temperature, etc.\n",
    "solution_builder.generate_system()\n",
    "\n",
    "print(\"✅ Simulation system generation job has started.\")\n",
    "\n",
    "# After the system generation is complete, download all result files.\n",
    "# ('file_type'='all' includes topology, coordinate files, etc.)\n",
    "print(\"...Waiting for the job to complete...\")\n",
    "\n",
    "file_name = \"solution.tar.gz\"\n",
    "output_path = os.path.join(output_dir, file_name)\n",
    "solution_builder.download_project(filename=output_path)\n",
    "print(f\"👍 System files successfully downloaded to '{output_path}'.\")"
   ]
  },
  {
   "cell_type": "code",
   "execution_count": null,
   "id": "fb0b8ae2-781e-4a30-861d-c5f4113ee9e0",
   "metadata": {},
   "outputs": [],
   "source": []
  }
 ],
 "metadata": {
  "kernelspec": {
   "display_name": "Python 3 (ipykernel)",
   "language": "python",
   "name": "python3"
  },
  "language_info": {
   "codemirror_mode": {
    "name": "ipython",
    "version": 3
   },
   "file_extension": ".py",
   "mimetype": "text/x-python",
   "name": "python",
   "nbconvert_exporter": "python",
   "pygments_lexer": "ipython3",
   "version": "3.11.0"
  }
 },
 "nbformat": 4,
 "nbformat_minor": 5
}
